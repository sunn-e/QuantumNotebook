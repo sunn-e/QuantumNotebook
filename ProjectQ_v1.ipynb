{
 "cells": [
  {
   "cell_type": "code",
   "execution_count": 1,
   "metadata": {},
   "outputs": [
    {
     "name": "stdout",
     "output_type": "stream",
     "text": [
      "Requirement already satisfied: qiskit in /home/l/miniconda2/envs/aims-ml/lib/python3.6/site-packages (0.12.0)\n",
      "Requirement already satisfied: qiskit-ignis==0.2.0 in /home/l/miniconda2/envs/aims-ml/lib/python3.6/site-packages (from qiskit) (0.2.0)\n",
      "Requirement already satisfied: qiskit-aqua==0.6.0 in /home/l/miniconda2/envs/aims-ml/lib/python3.6/site-packages (from qiskit) (0.6.0)\n",
      "Requirement already satisfied: qiskit-ibmq-provider==0.3.2 in /home/l/miniconda2/envs/aims-ml/lib/python3.6/site-packages (from qiskit) (0.3.2)\n",
      "Requirement already satisfied: qiskit-aer==0.3.0 in /home/l/miniconda2/envs/aims-ml/lib/python3.6/site-packages (from qiskit) (0.3.0)\n",
      "Requirement already satisfied: qiskit-terra==0.9.0 in /home/l/miniconda2/envs/aims-ml/lib/python3.6/site-packages (from qiskit) (0.9.0)\n",
      "Requirement already satisfied: setuptools>=40.1.0 in /home/l/miniconda2/envs/aims-ml/lib/python3.6/site-packages (from qiskit-ignis==0.2.0->qiskit) (41.0.1)\n",
      "Requirement already satisfied: numpy>=1.13 in /home/l/miniconda2/envs/aims-ml/lib/python3.6/site-packages (from qiskit-ignis==0.2.0->qiskit) (1.16.4)\n",
      "Requirement already satisfied: scipy!=0.19.1,>=0.19 in /home/l/miniconda2/envs/aims-ml/lib/python3.6/site-packages (from qiskit-ignis==0.2.0->qiskit) (1.3.1)\n",
      "Requirement already satisfied: sympy>=1.3 in /home/l/miniconda2/envs/aims-ml/lib/python3.6/site-packages (from qiskit-aqua==0.6.0->qiskit) (1.4)\n",
      "Requirement already satisfied: fastdtw in /home/l/miniconda2/envs/aims-ml/lib/python3.6/site-packages (from qiskit-aqua==0.6.0->qiskit) (0.3.2)\n",
      "Requirement already satisfied: networkx>=2.2 in /home/l/miniconda2/envs/aims-ml/lib/python3.6/site-packages (from qiskit-aqua==0.6.0->qiskit) (2.3)\n",
      "Requirement already satisfied: scikit-learn>=0.20.0 in /home/l/miniconda2/envs/aims-ml/lib/python3.6/site-packages (from qiskit-aqua==0.6.0->qiskit) (0.21.3)\n",
      "Requirement already satisfied: quandl in /home/l/miniconda2/envs/aims-ml/lib/python3.6/site-packages (from qiskit-aqua==0.6.0->qiskit) (3.4.8)\n",
      "Requirement already satisfied: dlx in /home/l/miniconda2/envs/aims-ml/lib/python3.6/site-packages (from qiskit-aqua==0.6.0->qiskit) (1.0.4)\n",
      "Requirement already satisfied: jsonschema<2.7,>=2.6 in /home/l/miniconda2/envs/aims-ml/lib/python3.6/site-packages (from qiskit-aqua==0.6.0->qiskit) (2.6.0)\n",
      "Requirement already satisfied: pyscf; sys_platform != \"win32\" in /home/l/miniconda2/envs/aims-ml/lib/python3.6/site-packages (from qiskit-aqua==0.6.0->qiskit) (1.6.4)\n",
      "Requirement already satisfied: cvxopt in /home/l/miniconda2/envs/aims-ml/lib/python3.6/site-packages (from qiskit-aqua==0.6.0->qiskit) (1.2.3)\n",
      "Requirement already satisfied: h5py in /home/l/miniconda2/envs/aims-ml/lib/python3.6/site-packages (from qiskit-aqua==0.6.0->qiskit) (2.10.0)\n",
      "Requirement already satisfied: docplex in /home/l/miniconda2/envs/aims-ml/lib/python3.6/site-packages (from qiskit-aqua==0.6.0->qiskit) (2.10.155)\n",
      "Requirement already satisfied: psutil>=5 in /home/l/miniconda2/envs/aims-ml/lib/python3.6/site-packages (from qiskit-aqua==0.6.0->qiskit) (5.6.3)\n",
      "Requirement already satisfied: requests-ntlm>=1.1.0 in /home/l/miniconda2/envs/aims-ml/lib/python3.6/site-packages (from qiskit-ibmq-provider==0.3.2->qiskit) (1.1.0)\n",
      "Requirement already satisfied: requests>=2.19 in /home/l/miniconda2/envs/aims-ml/lib/python3.6/site-packages (from qiskit-ibmq-provider==0.3.2->qiskit) (2.22.0)\n",
      "Requirement already satisfied: websockets<8,>=7 in /home/l/miniconda2/envs/aims-ml/lib/python3.6/site-packages (from qiskit-ibmq-provider==0.3.2->qiskit) (7.0)\n",
      "Requirement already satisfied: nest-asyncio==1.0.0 in /home/l/miniconda2/envs/aims-ml/lib/python3.6/site-packages (from qiskit-ibmq-provider==0.3.2->qiskit) (1.0.0)\n",
      "Requirement already satisfied: ply>=3.10 in /home/l/miniconda2/envs/aims-ml/lib/python3.6/site-packages (from qiskit-terra==0.9.0->qiskit) (3.11)\n",
      "Requirement already satisfied: marshmallow-polyfield<4,>=3.2 in /home/l/miniconda2/envs/aims-ml/lib/python3.6/site-packages (from qiskit-terra==0.9.0->qiskit) (3.2)\n",
      "Requirement already satisfied: marshmallow<3,>=2.17.0 in /home/l/miniconda2/envs/aims-ml/lib/python3.6/site-packages (from qiskit-terra==0.9.0->qiskit) (2.20.5)\n",
      "Requirement already satisfied: mpmath>=0.19 in /home/l/miniconda2/envs/aims-ml/lib/python3.6/site-packages (from sympy>=1.3->qiskit-aqua==0.6.0->qiskit) (1.1.0)\n",
      "Requirement already satisfied: decorator>=4.3.0 in /home/l/miniconda2/envs/aims-ml/lib/python3.6/site-packages (from networkx>=2.2->qiskit-aqua==0.6.0->qiskit) (4.4.0)\n",
      "Requirement already satisfied: joblib>=0.11 in /home/l/miniconda2/envs/aims-ml/lib/python3.6/site-packages (from scikit-learn>=0.20.0->qiskit-aqua==0.6.0->qiskit) (0.13.2)\n",
      "Requirement already satisfied: ndg-httpsclient in /home/l/miniconda2/envs/aims-ml/lib/python3.6/site-packages (from quandl->qiskit-aqua==0.6.0->qiskit) (0.5.1)\n",
      "Requirement already satisfied: python-dateutil in /home/l/miniconda2/envs/aims-ml/lib/python3.6/site-packages (from quandl->qiskit-aqua==0.6.0->qiskit) (2.8.0)\n",
      "Requirement already satisfied: inflection>=0.3.1 in /home/l/miniconda2/envs/aims-ml/lib/python3.6/site-packages (from quandl->qiskit-aqua==0.6.0->qiskit) (0.3.1)\n",
      "Requirement already satisfied: pandas>=0.14 in /home/l/miniconda2/envs/aims-ml/lib/python3.6/site-packages (from quandl->qiskit-aqua==0.6.0->qiskit) (0.25.1)\n",
      "Requirement already satisfied: six in /home/l/miniconda2/envs/aims-ml/lib/python3.6/site-packages (from quandl->qiskit-aqua==0.6.0->qiskit) (1.12.0)\n",
      "Requirement already satisfied: pyOpenSSL in /home/l/miniconda2/envs/aims-ml/lib/python3.6/site-packages (from quandl->qiskit-aqua==0.6.0->qiskit) (19.0.0)\n",
      "Requirement already satisfied: pyasn1 in /home/l/miniconda2/envs/aims-ml/lib/python3.6/site-packages (from quandl->qiskit-aqua==0.6.0->qiskit) (0.4.7)\n",
      "Requirement already satisfied: more-itertools<=5.0.0 in /home/l/miniconda2/envs/aims-ml/lib/python3.6/site-packages (from quandl->qiskit-aqua==0.6.0->qiskit) (5.0.0)\n",
      "Requirement already satisfied: docloud>=1.0.369 in /home/l/miniconda2/envs/aims-ml/lib/python3.6/site-packages (from docplex->qiskit-aqua==0.6.0->qiskit) (1.0.375)\n",
      "Requirement already satisfied: cryptography>=1.3 in /home/l/miniconda2/envs/aims-ml/lib/python3.6/site-packages (from requests-ntlm>=1.1.0->qiskit-ibmq-provider==0.3.2->qiskit) (2.7)\n",
      "Requirement already satisfied: ntlm-auth>=1.0.2 in /home/l/miniconda2/envs/aims-ml/lib/python3.6/site-packages (from requests-ntlm>=1.1.0->qiskit-ibmq-provider==0.3.2->qiskit) (1.4.0)\n",
      "Requirement already satisfied: idna<2.9,>=2.5 in /home/l/miniconda2/envs/aims-ml/lib/python3.6/site-packages (from requests>=2.19->qiskit-ibmq-provider==0.3.2->qiskit) (2.8)\n",
      "Requirement already satisfied: certifi>=2017.4.17 in /home/l/miniconda2/envs/aims-ml/lib/python3.6/site-packages (from requests>=2.19->qiskit-ibmq-provider==0.3.2->qiskit) (2019.6.16)\n",
      "Requirement already satisfied: urllib3!=1.25.0,!=1.25.1,<1.26,>=1.21.1 in /home/l/miniconda2/envs/aims-ml/lib/python3.6/site-packages (from requests>=2.19->qiskit-ibmq-provider==0.3.2->qiskit) (1.25.3)\n",
      "Requirement already satisfied: chardet<3.1.0,>=3.0.2 in /home/l/miniconda2/envs/aims-ml/lib/python3.6/site-packages (from requests>=2.19->qiskit-ibmq-provider==0.3.2->qiskit) (3.0.4)\n",
      "Requirement already satisfied: pytz>=2017.2 in /home/l/miniconda2/envs/aims-ml/lib/python3.6/site-packages (from pandas>=0.14->quandl->qiskit-aqua==0.6.0->qiskit) (2019.2)\n",
      "Requirement already satisfied: cffi!=1.11.3,>=1.8 in /home/l/miniconda2/envs/aims-ml/lib/python3.6/site-packages (from cryptography>=1.3->requests-ntlm>=1.1.0->qiskit-ibmq-provider==0.3.2->qiskit) (1.12.3)\n",
      "Requirement already satisfied: asn1crypto>=0.21.0 in /home/l/miniconda2/envs/aims-ml/lib/python3.6/site-packages (from cryptography>=1.3->requests-ntlm>=1.1.0->qiskit-ibmq-provider==0.3.2->qiskit) (0.24.0)\n",
      "Requirement already satisfied: pycparser in /home/l/miniconda2/envs/aims-ml/lib/python3.6/site-packages (from cffi!=1.11.3,>=1.8->cryptography>=1.3->requests-ntlm>=1.1.0->qiskit-ibmq-provider==0.3.2->qiskit) (2.19)\n"
     ]
    }
   ],
   "source": [
    "!pip install qiskit"
   ]
  },
  {
   "cell_type": "code",
   "execution_count": 2,
   "metadata": {},
   "outputs": [],
   "source": [
    "from qiskit import *"
   ]
  },
  {
   "cell_type": "code",
   "execution_count": 3,
   "metadata": {},
   "outputs": [],
   "source": [
    "qr = QuantumRegister(2)"
   ]
  },
  {
   "cell_type": "code",
   "execution_count": 4,
   "metadata": {},
   "outputs": [],
   "source": [
    "cr = ClassicalRegister(2) #to do measurements twobit_creg"
   ]
  },
  {
   "cell_type": "code",
   "execution_count": 5,
   "metadata": {},
   "outputs": [],
   "source": [
    "circuit = QuantumCircuit(qr,cr) "
   ]
  },
  {
   "cell_type": "code",
   "execution_count": 6,
   "metadata": {},
   "outputs": [],
   "source": [
    "%matplotlib inline\n"
   ]
  },
  {
   "cell_type": "code",
   "execution_count": 7,
   "metadata": {},
   "outputs": [
    {
     "data": {
      "text/html": [
       "<pre style=\"word-wrap: normal;white-space: pre;background: #fff0;line-height: 1.1;font-family: &quot;Courier New&quot;,Courier,monospace\">         \n",
       "q0_0: |0>\n",
       "         \n",
       "q0_1: |0>\n",
       "         \n",
       " c0_0: 0 \n",
       "         \n",
       " c0_1: 0 \n",
       "         </pre>"
      ],
      "text/plain": [
       "<qiskit.visualization.text.TextDrawing at 0x7f0616bad0f0>"
      ]
     },
     "execution_count": 7,
     "metadata": {},
     "output_type": "execute_result"
    }
   ],
   "source": [
    "circuit.draw()"
   ]
  },
  {
   "cell_type": "code",
   "execution_count": 8,
   "metadata": {},
   "outputs": [
    {
     "data": {
      "text/plain": [
       "<qiskit.circuit.instructionset.InstructionSet at 0x7f0616bad518>"
      ]
     },
     "execution_count": 8,
     "metadata": {},
     "output_type": "execute_result"
    }
   ],
   "source": [
    "circuit.h(qr[0])"
   ]
  },
  {
   "cell_type": "markdown",
   "metadata": {},
   "source": [
    ".h \"Hadamard Gate\" The Hadamard transform (also known as the Walsh–Hadamard transform, Hadamard–Rademacher–Walsh transform, Walsh transform, or Walsh–Fourier transform) is an example of a generalized class of Fourier transforms. It performs an orthogonal, symmetric, involutive, linear operation on 2m real numbers (or complex numbers, although the Hadamard matrices themselves are purely real). "
   ]
  },
  {
   "cell_type": "code",
   "execution_count": 9,
   "metadata": {},
   "outputs": [
    {
     "data": {
      "image/png": "[encoded data removed]",
      "text/plain": [
       "<Figure size 227.556x204.68 with 1 Axes>"
      ]
     },
     "execution_count": 9,
     "metadata": {},
     "output_type": "execute_result"
    }
   ],
   "source": [
    "circuit.draw(output='mpl')"
   ]
  },
  {
   "cell_type": "code",
   "execution_count": 10,
   "metadata": {},
   "outputs": [
    {
     "data": {
      "text/plain": [
       "<qiskit.circuit.instructionset.InstructionSet at 0x7f0616a3f8d0>"
      ]
     },
     "execution_count": 10,
     "metadata": {},
     "output_type": "execute_result"
    }
   ],
   "source": [
    "circuit.cx(qr[0],qr[1]) #logical if"
   ]
  },
  {
   "cell_type": "code",
   "execution_count": 11,
   "metadata": {},
   "outputs": [
    {
     "data": {
      "image/png": "[encoded data removed]",
      "text/plain": [
       "<Figure size 287.756x204.68 with 1 Axes>"
      ]
     },
     "execution_count": 11,
     "metadata": {},
     "output_type": "execute_result"
    }
   ],
   "source": [
    "circuit.draw(output= 'mpl')"
   ]
  },
  {
   "cell_type": "markdown",
   "metadata": {},
   "source": [
    "That was ControlledX gate which is like if this then that, hadamard and controlled x helps us to create entaglement between q0sub0 nd q0sub1. Cooooooooool."
   ]
  },
  {
   "cell_type": "code",
   "execution_count": 12,
   "metadata": {},
   "outputs": [
    {
     "data": {
      "text/plain": [
       "<qiskit.circuit.instructionset.InstructionSet at 0x7f0616a35358>"
      ]
     },
     "execution_count": 12,
     "metadata": {},
     "output_type": "execute_result"
    }
   ],
   "source": [
    "circuit.cx(qr[0], qr[1])"
   ]
  },
  {
   "cell_type": "code",
   "execution_count": 13,
   "metadata": {},
   "outputs": [
    {
     "data": {
      "image/png": "[encoded data removed]",
      "text/plain": [
       "<Figure size 347.956x204.68 with 1 Axes>"
      ]
     },
     "execution_count": 13,
     "metadata": {},
     "output_type": "execute_result"
    }
   ],
   "source": [
    "circuit.draw(output='mpl')"
   ]
  },
  {
   "cell_type": "code",
   "execution_count": 14,
   "metadata": {},
   "outputs": [
    {
     "data": {
      "text/plain": [
       "<qiskit.circuit.instructionset.InstructionSet at 0x7f0616a35e48>"
      ]
     },
     "execution_count": 14,
     "metadata": {},
     "output_type": "execute_result"
    }
   ],
   "source": [
    "circuit.measure(qr,cr)"
   ]
  },
  {
   "cell_type": "code",
   "execution_count": 56,
   "metadata": {},
   "outputs": [
    {
     "data": {
      "image/png": "[encoded data removed]",
      "text/plain": [
       "<Figure size 462.336x198.66 with 1 Axes>"
      ]
     },
     "execution_count": 56,
     "metadata": {},
     "output_type": "execute_result"
    }
   ],
   "source": [
    "circuit.draw(output='mpl', style=False)"
   ]
  },
  {
   "cell_type": "markdown",
   "metadata": {},
   "source": [
    "We took measurements of quantum register and stored them in out classical register"
   ]
  },
  {
   "cell_type": "code",
   "execution_count": 16,
   "metadata": {},
   "outputs": [],
   "source": [
    "simulator = Aer.get_backend('qasm_simulator')"
   ]
  },
  {
   "cell_type": "markdown",
   "metadata": {},
   "source": [
    " quasm = quantum assembly language\n",
    " We are now buiding a simulator to run it on our local computer using qasm simulator"
   ]
  },
  {
   "cell_type": "code",
   "execution_count": 17,
   "metadata": {},
   "outputs": [],
   "source": [
    "result = execute(circuit, backend=simulator).result()\n",
    "#this will generate entaglement everytime you run it :p"
   ]
  },
  {
   "cell_type": "markdown",
   "metadata": {},
   "source": [
    "Executed my \"quantum circuit\" on \"simulator\" that we created"
   ]
  },
  {
   "cell_type": "code",
   "execution_count": 18,
   "metadata": {},
   "outputs": [],
   "source": [
    "from qiskit.tools.visualization import plot_histogram"
   ]
  },
  {
   "cell_type": "code",
   "execution_count": 58,
   "metadata": {},
   "outputs": [
    {
     "data": {
      "image/png": "[encoded data removed]",
      "text/plain": [
       "<Figure size 504x360 with 1 Axes>"
      ]
     },
     "execution_count": 58,
     "metadata": {},
     "output_type": "execute_result"
    }
   ],
   "source": [
    "plot_histogram(result.get_counts(circuit))"
   ]
  },
  {
   "cell_type": "code",
   "execution_count": 26,
   "metadata": {},
   "outputs": [],
   "source": [
    "from qiskit import IBMQ"
   ]
  },
  {
   "cell_type": "code",
   "execution_count": 27,
   "metadata": {},
   "outputs": [
    {
     "name": "stderr",
     "output_type": "stream",
     "text": [
      "/home/l/miniconda2/envs/aims-ml/lib/python3.6/site-packages/qiskit/providers/ibmq/credentials/configrc.py:130: UserWarning: Credentials already present. Set overwrite=True to overwrite.\n",
      "  warnings.warn('Credentials already present. '\n"
     ]
    }
   ],
   "source": [
    "IBMQ.save_account('Yourapikey')"
   ]
  },
  {
   "cell_type": "code",
   "execution_count": 28,
   "metadata": {},
   "outputs": [
    {
     "name": "stderr",
     "output_type": "stream",
     "text": [
      "/home/l/miniconda2/envs/aims-ml/lib/python3.6/site-packages/qiskit/providers/ibmq/ibmqfactory.py:181: UserWarning: Credentials are already in use. The existing account in the session will be replaced.\n",
      "  warnings.warn('Credentials are already in use. The existing '\n"
     ]
    },
    {
     "data": {
      "text/plain": [
       "<AccountProvider for IBMQ(hub='ibm-q', group='open', project='main')>"
      ]
     },
     "execution_count": 28,
     "metadata": {},
     "output_type": "execute_result"
    }
   ],
   "source": [
    "IBMQ.load_account() #you should have got API token to run this on ibm Quantum computer"
   ]
  },
  {
   "cell_type": "code",
   "execution_count": 66,
   "metadata": {},
   "outputs": [],
   "source": [
    "provider = IBMQ.get_provider('ibm-q')"
   ]
  },
  {
   "cell_type": "code",
   "execution_count": 67,
   "metadata": {},
   "outputs": [],
   "source": [
    "#qcomp = provider.get_backend('ibmq_qasm_simulator')\n",
    "\n"
   ]
  },
  {
   "cell_type": "code",
   "execution_count": 68,
   "metadata": {},
   "outputs": [],
   "source": [
    "qcomp = provider.get_backend('ibmq_16_melbourne')\n"
   ]
  },
  {
   "cell_type": "code",
   "execution_count": 69,
   "metadata": {},
   "outputs": [],
   "source": [
    "job = execute(circuit, backend=qcomp)"
   ]
  },
  {
   "cell_type": "code",
   "execution_count": 70,
   "metadata": {},
   "outputs": [],
   "source": [
    "from qiskit.tools.monitor import job_monitor"
   ]
  },
  {
   "cell_type": "code",
   "execution_count": 71,
   "metadata": {},
   "outputs": [
    {
     "name": "stdout",
     "output_type": "stream",
     "text": [
      "Job Status: job has successfully run\n"
     ]
    }
   ],
   "source": [
    "job_monitor(job)"
   ]
  },
  {
   "cell_type": "markdown",
   "metadata": {},
   "source": [
    "You should get a message like \"Job Status: job has successfully run\" else wait"
   ]
  },
  {
   "cell_type": "code",
   "execution_count": 72,
   "metadata": {},
   "outputs": [],
   "source": [
    "result = job.result()"
   ]
  },
  {
   "cell_type": "code",
   "execution_count": 73,
   "metadata": {},
   "outputs": [
    {
     "data": {
      "image/png": "[encoded data removed]",
      "text/plain": [
       "<Figure size 504x360 with 1 Axes>"
      ]
     },
     "execution_count": 73,
     "metadata": {},
     "output_type": "execute_result"
    }
   ],
   "source": [
    "plot_histogram(result.get_counts(circuit))"
   ]
  },
  {
   "cell_type": "code",
   "execution_count": null,
   "metadata": {},
   "outputs": [],
   "source": []
  }
 ],
 "metadata": {
  "kernelspec": {
   "display_name": "Python 3",
   "language": "python",
   "name": "python3"
  },
  "language_info": {
   "codemirror_mode": {
    "name": "ipython",
    "version": 3
   },
   "file_extension": ".py",
   "mimetype": "text/x-python",
   "name": "python",
   "nbconvert_exporter": "python",
   "pygments_lexer": "ipython3",
   "version": "3.6.7"
  }
 },
 "nbformat": 4,
 "nbformat_minor": 2
}
